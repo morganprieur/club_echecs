{
 "cells": [
  {
   "cell_type": "code",
   "execution_count": 38,
   "metadata": {},
   "outputs": [
    {
     "name": "stdout",
     "output_type": "stream",
     "text": [
      "[[2, 0.0], [4, 0.0]]\n",
      "[{'id': 2, 'lastname': 'Pri', 'firstname': 'Christophe'}, {'id': 4, 'lastname': 'Pri', 'firstname': 'Yoh'}]\n"
     ]
    }
   ],
   "source": [
    "import random \n",
    "\n",
    "\n",
    "players = [ \n",
    "    {\n",
    "        \"id\": 2,\n",
    "        \"lastname\": \"Pri\",\n",
    "        \"firstname\": \"Christophe\"\n",
    "    },\n",
    "    {\n",
    "        \"id\": 4,\n",
    "        \"lastname\": \"Pri\",\n",
    "        \"firstname\": \"Yoh\"\n",
    "    },\n",
    "    {\n",
    "        \"id\": 1,\n",
    "        \"lastname\": \"Pri\",\n",
    "        \"firstname\": \"Oren\"\n",
    "    },\n",
    "    {\n",
    "        \"id\": 3,\n",
    "        \"lastname\": \"Pri\",\n",
    "        \"firstname\": \"Alix\"\n",
    "    }\n",
    "]\n",
    "matches = [([1, 0.0], [2, 0.0]), ([3, 0.0], [4, 0.0])]\n",
    "# déterminer qui a les blancs \n",
    "\n",
    "# print(matches[0]) \n",
    "# print(len(matches)) \n",
    "\n",
    "# for match in matches: \n",
    "#     i = random.choice(match) \n",
    "#     # i = random.choice(matches[0]) \n",
    "#     print(i) \n",
    "\n",
    "# whites = [random.choice(matches) for white in matches] \n",
    "whites = [] \n",
    "for match in matches: \n",
    "    white = random.choice(match) \n",
    "    whites.append(white) \n",
    "print(whites) \n",
    "\n",
    "starters = [] \n",
    "# afficher qui comence \n",
    "for starter in whites: \n",
    "    for player in players: \n",
    "        if starter[0] == player['id']: \n",
    "            starters.append(player) \n",
    "print(starters) \n"
   ]
  }
 ],
 "metadata": {
  "kernelspec": {
   "display_name": "Python 3",
   "language": "python",
   "name": "python3"
  },
  "language_info": {
   "codemirror_mode": {
    "name": "ipython",
    "version": 3
   },
   "file_extension": ".py",
   "mimetype": "text/x-python",
   "name": "python",
   "nbconvert_exporter": "python",
   "pygments_lexer": "ipython3",
   "version": "3.11.4"
  },
  "orig_nbformat": 4
 },
 "nbformat": 4,
 "nbformat_minor": 2
}
